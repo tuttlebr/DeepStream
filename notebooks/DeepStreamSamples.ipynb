{
 "cells": [
  {
   "cell_type": "markdown",
   "metadata": {},
   "source": [
    "## Capture from video0 input\n",
    "___\n",
    "*requires video input device*\n",
    "\n",
    "* Once started, will run inference, press `ctrl + c` to stop"
   ]
  },
  {
   "cell_type": "code",
   "execution_count": null,
   "metadata": {},
   "outputs": [],
   "source": [
    "!deepstream-app -c configs/deepstream-app/source1_usb_dec_infer_resnet_int8.txt"
   ]
  },
  {
   "cell_type": "markdown",
   "metadata": {},
   "source": [
    "## Run inference on existing .mp4 and save with captured bounding boxes\n",
    "___"
   ]
  },
  {
   "cell_type": "code",
   "execution_count": null,
   "metadata": {},
   "outputs": [],
   "source": [
    "from IPython.display import Video\n",
    "\n",
    "!deepstream-app -c configs/deepstream-app/source2_1080p_dec_infer-resnet_demux_int8.txt\n",
    "\n",
    "Video(\"out_source0.mp4\", width=720)"
   ]
  },
  {
   "cell_type": "markdown",
   "metadata": {},
   "source": [
    "## Run inference on existing .mp4 and stream to host display\n",
    "___\n",
    "*requires access to host display, run this on host, not in this container: `xhost +`*"
   ]
  },
  {
   "cell_type": "code",
   "execution_count": null,
   "metadata": {},
   "outputs": [
    {
     "name": "stdout",
     "output_type": "stream",
     "text": [
      "\n",
      "(gst-plugin-scanner:91): GStreamer-\u001b[1;33mWARNING\u001b[0m **: \u001b[34m12:47:06.645\u001b[0m: Failed to load plugin '/usr/lib/x86_64-linux-gnu/gstreamer-1.0/deepstream/libnvdsgst_udp.so': librivermax.so.0: cannot open shared object file: No such file or directory\n",
      "\n",
      "(gst-plugin-scanner:91): GStreamer-\u001b[1;33mWARNING\u001b[0m **: \u001b[34m12:47:06.652\u001b[0m: Failed to load plugin '/usr/lib/x86_64-linux-gnu/gstreamer-1.0/deepstream/libnvdsgst_inferserver.so': libtritonserver.so: cannot open shared object file: No such file or directory\n",
      "ERROR: ../nvdsinfer/nvdsinfer_model_builder.cpp:1484 Deserialize engine failed because file path: /opt/nvidia/deepstream/deepstream-6.0/samples/configs/deepstream-app/../../models/Primary_Detector/resnet10.caffemodel_b30_gpu0_int8.engine open error\n",
      "0:00:01.935452856 \u001b[331m   90\u001b[00m 0x55c951602a60 \u001b[33;01mWARN   \u001b[00m \u001b[00m             nvinfer gstnvinfer.cpp:635:gst_nvinfer_logger:<primary_gie>\u001b[00m NvDsInferContext[UID 1]: Warning from NvDsInferContextImpl::deserializeEngineAndBackend() <nvdsinfer_context_impl.cpp:1889> [UID = 1]: deserialize engine from file :/opt/nvidia/deepstream/deepstream-6.0/samples/configs/deepstream-app/../../models/Primary_Detector/resnet10.caffemodel_b30_gpu0_int8.engine failed\n",
      "0:00:01.935488682 \u001b[331m   90\u001b[00m 0x55c951602a60 \u001b[33;01mWARN   \u001b[00m \u001b[00m             nvinfer gstnvinfer.cpp:635:gst_nvinfer_logger:<primary_gie>\u001b[00m NvDsInferContext[UID 1]: Warning from NvDsInferContextImpl::generateBackendContext() <nvdsinfer_context_impl.cpp:1996> [UID = 1]: deserialize backend context from engine from file :/opt/nvidia/deepstream/deepstream-6.0/samples/configs/deepstream-app/../../models/Primary_Detector/resnet10.caffemodel_b30_gpu0_int8.engine failed, try rebuild\n",
      "0:00:01.935495242 \u001b[331m   90\u001b[00m 0x55c951602a60 \u001b[36mINFO   \u001b[00m \u001b[00m             nvinfer gstnvinfer.cpp:638:gst_nvinfer_logger:<primary_gie>\u001b[00m NvDsInferContext[UID 1]: Info from NvDsInferContextImpl::buildModel() <nvdsinfer_context_impl.cpp:1914> [UID = 1]: Trying to create engine from model files\n",
      "WARNING: [TRT]: Detected invalid timing cache, setup a local cache instead\n"
     ]
    }
   ],
   "source": [
    "!deepstream-app -c configs/deepstream-app/source30_1080p_dec_infer-resnet_tiled_display_int8.txt"
   ]
  },
  {
   "cell_type": "markdown",
   "metadata": {},
   "source": [
    "## Run face recognition on existing .mp4"
   ]
  },
  {
   "cell_type": "code",
   "execution_count": null,
   "metadata": {},
   "outputs": [],
   "source": [
    "!deepstream-app \\\n",
    "-c configs/tao_pretrained_models/deepstream_app_source1_facedetectir.txt"
   ]
  },
  {
   "cell_type": "markdown",
   "metadata": {},
   "source": [
    "## Run people tracking on existing .mp4"
   ]
  },
  {
   "cell_type": "code",
   "execution_count": null,
   "metadata": {},
   "outputs": [],
   "source": [
    "!deepstream-app \\\n",
    "-c configs/tao_pretrained_models/deepstream_app_source1_peoplenet.txt"
   ]
  },
  {
   "cell_type": "markdown",
   "metadata": {},
   "source": [
    "## Run vehicle make/type tracking in moving traffic"
   ]
  },
  {
   "cell_type": "code",
   "execution_count": null,
   "metadata": {},
   "outputs": [],
   "source": [
    "!deepstream-app \\\n",
    "-c configs/tao_pretrained_models/deepstream_app_source1_dashcamnet_vehiclemakenet_vehicletypenet.txt"
   ]
  },
  {
   "cell_type": "code",
   "execution_count": null,
   "metadata": {},
   "outputs": [],
   "source": []
  }
 ],
 "metadata": {
  "kernelspec": {
   "display_name": "Python 3",
   "language": "python",
   "name": "python3"
  },
  "language_info": {
   "codemirror_mode": {
    "name": "ipython",
    "version": 3
   },
   "file_extension": ".py",
   "mimetype": "text/x-python",
   "name": "python",
   "nbconvert_exporter": "python",
   "pygments_lexer": "ipython3",
   "version": "3.6.9"
  }
 },
 "nbformat": 4,
 "nbformat_minor": 4
}
